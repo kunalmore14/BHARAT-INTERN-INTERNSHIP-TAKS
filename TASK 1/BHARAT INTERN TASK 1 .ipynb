{
 "cells": [
  {
   "cell_type": "markdown",
   "id": "3678b5ef",
   "metadata": {},
   "source": [
    "# Bharat Intern Task 1"
   ]
  },
  {
   "cell_type": "markdown",
   "id": "b7f4076a",
   "metadata": {},
   "source": [
    "## Stock Price Prediction"
   ]
  },
  {
   "cell_type": "markdown",
   "id": "f630042d",
   "metadata": {},
   "source": [
    "pandas: Used for data manipulation and handling.\n",
    "\n",
    "numpy: Essential for numerical operations and data handling.\n",
    "\n",
    "matplotlib.pyplot: Used for plotting graphs.\n",
    "\n",
    "MinMaxScaler: This is used to scale (normalize) the stock prices to values between 0 and 1 to help the neural network converge faster.\n",
    "\n",
    "Sequential: A Keras model for building a sequential neural network.\n",
    "\n",
    "LSTM and Dense: Layers for building the LSTM neural network."
   ]
  },
  {
   "cell_type": "code",
   "execution_count": 178,
   "id": "2c23f8ee",
   "metadata": {},
   "outputs": [],
   "source": [
    "# Import necessary libraries\n",
    "import pandas as pd\n",
    "import numpy as np\n",
    "import matplotlib.pyplot as plt\n",
    "from sklearn.preprocessing import MinMaxScaler\n",
    "from tensorflow.keras.models import Sequential\n",
    "from tensorflow.keras.layers import LSTM, Dense\n",
    "import warnings\n",
    "warnings.filterwarnings(\"ignore\")\n"
   ]
  },
  {
   "cell_type": "code",
   "execution_count": 179,
   "id": "72b10bfd",
   "metadata": {},
   "outputs": [
    {
     "data": {
      "text/html": [
       "<div>\n",
       "<style scoped>\n",
       "    .dataframe tbody tr th:only-of-type {\n",
       "        vertical-align: middle;\n",
       "    }\n",
       "\n",
       "    .dataframe tbody tr th {\n",
       "        vertical-align: top;\n",
       "    }\n",
       "\n",
       "    .dataframe thead th {\n",
       "        text-align: right;\n",
       "    }\n",
       "</style>\n",
       "<table border=\"1\" class=\"dataframe\">\n",
       "  <thead>\n",
       "    <tr style=\"text-align: right;\">\n",
       "      <th></th>\n",
       "      <th>Open</th>\n",
       "      <th>High</th>\n",
       "      <th>Low</th>\n",
       "      <th>Close</th>\n",
       "      <th>Volume</th>\n",
       "      <th>Dividends</th>\n",
       "      <th>Stock Splits</th>\n",
       "    </tr>\n",
       "    <tr>\n",
       "      <th>Date</th>\n",
       "      <th></th>\n",
       "      <th></th>\n",
       "      <th></th>\n",
       "      <th></th>\n",
       "      <th></th>\n",
       "      <th></th>\n",
       "      <th></th>\n",
       "    </tr>\n",
       "  </thead>\n",
       "  <tbody>\n",
       "    <tr>\n",
       "      <th>2018-09-19 00:00:00-04:00</th>\n",
       "      <td>52.316207</td>\n",
       "      <td>52.584372</td>\n",
       "      <td>51.550021</td>\n",
       "      <td>52.285080</td>\n",
       "      <td>108495200</td>\n",
       "      <td>0.0</td>\n",
       "      <td>0.0</td>\n",
       "    </tr>\n",
       "    <tr>\n",
       "      <th>2018-09-20 00:00:00-04:00</th>\n",
       "      <td>52.732820</td>\n",
       "      <td>53.221262</td>\n",
       "      <td>52.471834</td>\n",
       "      <td>52.682537</td>\n",
       "      <td>106435200</td>\n",
       "      <td>0.0</td>\n",
       "      <td>0.0</td>\n",
       "    </tr>\n",
       "    <tr>\n",
       "      <th>2018-09-21 00:00:00-04:00</th>\n",
       "      <td>52.862113</td>\n",
       "      <td>53.000985</td>\n",
       "      <td>52.026489</td>\n",
       "      <td>52.115082</td>\n",
       "      <td>384986800</td>\n",
       "      <td>0.0</td>\n",
       "      <td>0.0</td>\n",
       "    </tr>\n",
       "    <tr>\n",
       "      <th>2018-09-24 00:00:00-04:00</th>\n",
       "      <td>51.913955</td>\n",
       "      <td>52.977036</td>\n",
       "      <td>51.868462</td>\n",
       "      <td>52.864502</td>\n",
       "      <td>110773600</td>\n",
       "      <td>0.0</td>\n",
       "      <td>0.0</td>\n",
       "    </tr>\n",
       "    <tr>\n",
       "      <th>2018-09-25 00:00:00-04:00</th>\n",
       "      <td>52.615500</td>\n",
       "      <td>53.350563</td>\n",
       "      <td>52.603528</td>\n",
       "      <td>53.199718</td>\n",
       "      <td>98217600</td>\n",
       "      <td>0.0</td>\n",
       "      <td>0.0</td>\n",
       "    </tr>\n",
       "  </tbody>\n",
       "</table>\n",
       "</div>"
      ],
      "text/plain": [
       "                                Open       High        Low      Close  \\\n",
       "Date                                                                    \n",
       "2018-09-19 00:00:00-04:00  52.316207  52.584372  51.550021  52.285080   \n",
       "2018-09-20 00:00:00-04:00  52.732820  53.221262  52.471834  52.682537   \n",
       "2018-09-21 00:00:00-04:00  52.862113  53.000985  52.026489  52.115082   \n",
       "2018-09-24 00:00:00-04:00  51.913955  52.977036  51.868462  52.864502   \n",
       "2018-09-25 00:00:00-04:00  52.615500  53.350563  52.603528  53.199718   \n",
       "\n",
       "                              Volume  Dividends  Stock Splits  \n",
       "Date                                                           \n",
       "2018-09-19 00:00:00-04:00  108495200        0.0           0.0  \n",
       "2018-09-20 00:00:00-04:00  106435200        0.0           0.0  \n",
       "2018-09-21 00:00:00-04:00  384986800        0.0           0.0  \n",
       "2018-09-24 00:00:00-04:00  110773600        0.0           0.0  \n",
       "2018-09-25 00:00:00-04:00   98217600        0.0           0.0  "
      ]
     },
     "execution_count": 179,
     "metadata": {},
     "output_type": "execute_result"
    }
   ],
   "source": [
    "\n",
    "import yfinance as yf\n",
    "\n",
    "aapl = yf.Ticker('AAPL')\n",
    "df = aapl.history(period='5y')\n",
    "df.head()"
   ]
  },
  {
   "cell_type": "code",
   "execution_count": 180,
   "id": "f6192316",
   "metadata": {},
   "outputs": [
    {
     "name": "stdout",
     "output_type": "stream",
     "text": [
      "<class 'pandas.core.frame.DataFrame'>\n",
      "DatetimeIndex: 1257 entries, 2018-09-19 00:00:00-04:00 to 2023-09-18 00:00:00-04:00\n",
      "Data columns (total 7 columns):\n",
      " #   Column        Non-Null Count  Dtype  \n",
      "---  ------        --------------  -----  \n",
      " 0   Open          1257 non-null   float64\n",
      " 1   High          1257 non-null   float64\n",
      " 2   Low           1257 non-null   float64\n",
      " 3   Close         1257 non-null   float64\n",
      " 4   Volume        1257 non-null   int64  \n",
      " 5   Dividends     1257 non-null   float64\n",
      " 6   Stock Splits  1257 non-null   float64\n",
      "dtypes: float64(6), int64(1)\n",
      "memory usage: 78.6 KB\n"
     ]
    }
   ],
   "source": [
    "df.info()"
   ]
  },
  {
   "cell_type": "code",
   "execution_count": 181,
   "id": "9db98690",
   "metadata": {},
   "outputs": [
    {
     "data": {
      "text/plain": [
       "Open            0\n",
       "High            0\n",
       "Low             0\n",
       "Close           0\n",
       "Volume          0\n",
       "Dividends       0\n",
       "Stock Splits    0\n",
       "dtype: int64"
      ]
     },
     "execution_count": 181,
     "metadata": {},
     "output_type": "execute_result"
    }
   ],
   "source": [
    "#checking for the null values\n",
    "df.isnull().sum()"
   ]
  },
  {
   "cell_type": "code",
   "execution_count": 182,
   "id": "1d32cb46",
   "metadata": {},
   "outputs": [
    {
     "data": {
      "text/html": [
       "<div>\n",
       "<style scoped>\n",
       "    .dataframe tbody tr th:only-of-type {\n",
       "        vertical-align: middle;\n",
       "    }\n",
       "\n",
       "    .dataframe tbody tr th {\n",
       "        vertical-align: top;\n",
       "    }\n",
       "\n",
       "    .dataframe thead th {\n",
       "        text-align: right;\n",
       "    }\n",
       "</style>\n",
       "<table border=\"1\" class=\"dataframe\">\n",
       "  <thead>\n",
       "    <tr style=\"text-align: right;\">\n",
       "      <th></th>\n",
       "      <th>Open</th>\n",
       "      <th>High</th>\n",
       "      <th>Low</th>\n",
       "      <th>Close</th>\n",
       "      <th>Volume</th>\n",
       "      <th>Dividends</th>\n",
       "      <th>Stock Splits</th>\n",
       "    </tr>\n",
       "    <tr>\n",
       "      <th>Date</th>\n",
       "      <th></th>\n",
       "      <th></th>\n",
       "      <th></th>\n",
       "      <th></th>\n",
       "      <th></th>\n",
       "      <th></th>\n",
       "      <th></th>\n",
       "    </tr>\n",
       "  </thead>\n",
       "  <tbody>\n",
       "    <tr>\n",
       "      <th>2023-09-12 00:00:00-04:00</th>\n",
       "      <td>179.490005</td>\n",
       "      <td>180.130005</td>\n",
       "      <td>174.820007</td>\n",
       "      <td>176.300003</td>\n",
       "      <td>90370200</td>\n",
       "      <td>0.0</td>\n",
       "      <td>0.0</td>\n",
       "    </tr>\n",
       "    <tr>\n",
       "      <th>2023-09-13 00:00:00-04:00</th>\n",
       "      <td>176.509995</td>\n",
       "      <td>177.300003</td>\n",
       "      <td>173.979996</td>\n",
       "      <td>174.210007</td>\n",
       "      <td>84267900</td>\n",
       "      <td>0.0</td>\n",
       "      <td>0.0</td>\n",
       "    </tr>\n",
       "    <tr>\n",
       "      <th>2023-09-14 00:00:00-04:00</th>\n",
       "      <td>174.000000</td>\n",
       "      <td>176.100006</td>\n",
       "      <td>173.580002</td>\n",
       "      <td>175.740005</td>\n",
       "      <td>60895800</td>\n",
       "      <td>0.0</td>\n",
       "      <td>0.0</td>\n",
       "    </tr>\n",
       "    <tr>\n",
       "      <th>2023-09-15 00:00:00-04:00</th>\n",
       "      <td>176.479996</td>\n",
       "      <td>176.500000</td>\n",
       "      <td>173.820007</td>\n",
       "      <td>175.009995</td>\n",
       "      <td>109205100</td>\n",
       "      <td>0.0</td>\n",
       "      <td>0.0</td>\n",
       "    </tr>\n",
       "    <tr>\n",
       "      <th>2023-09-18 00:00:00-04:00</th>\n",
       "      <td>176.479996</td>\n",
       "      <td>179.380005</td>\n",
       "      <td>176.169998</td>\n",
       "      <td>177.970001</td>\n",
       "      <td>67117100</td>\n",
       "      <td>0.0</td>\n",
       "      <td>0.0</td>\n",
       "    </tr>\n",
       "  </tbody>\n",
       "</table>\n",
       "</div>"
      ],
      "text/plain": [
       "                                 Open        High         Low       Close  \\\n",
       "Date                                                                        \n",
       "2023-09-12 00:00:00-04:00  179.490005  180.130005  174.820007  176.300003   \n",
       "2023-09-13 00:00:00-04:00  176.509995  177.300003  173.979996  174.210007   \n",
       "2023-09-14 00:00:00-04:00  174.000000  176.100006  173.580002  175.740005   \n",
       "2023-09-15 00:00:00-04:00  176.479996  176.500000  173.820007  175.009995   \n",
       "2023-09-18 00:00:00-04:00  176.479996  179.380005  176.169998  177.970001   \n",
       "\n",
       "                              Volume  Dividends  Stock Splits  \n",
       "Date                                                           \n",
       "2023-09-12 00:00:00-04:00   90370200        0.0           0.0  \n",
       "2023-09-13 00:00:00-04:00   84267900        0.0           0.0  \n",
       "2023-09-14 00:00:00-04:00   60895800        0.0           0.0  \n",
       "2023-09-15 00:00:00-04:00  109205100        0.0           0.0  \n",
       "2023-09-18 00:00:00-04:00   67117100        0.0           0.0  "
      ]
     },
     "execution_count": 182,
     "metadata": {},
     "output_type": "execute_result"
    }
   ],
   "source": [
    "df.tail()"
   ]
  },
  {
   "cell_type": "code",
   "execution_count": 183,
   "id": "14360985",
   "metadata": {},
   "outputs": [
    {
     "data": {
      "text/html": [
       "<div>\n",
       "<style scoped>\n",
       "    .dataframe tbody tr th:only-of-type {\n",
       "        vertical-align: middle;\n",
       "    }\n",
       "\n",
       "    .dataframe tbody tr th {\n",
       "        vertical-align: top;\n",
       "    }\n",
       "\n",
       "    .dataframe thead th {\n",
       "        text-align: right;\n",
       "    }\n",
       "</style>\n",
       "<table border=\"1\" class=\"dataframe\">\n",
       "  <thead>\n",
       "    <tr style=\"text-align: right;\">\n",
       "      <th></th>\n",
       "      <th>Open</th>\n",
       "      <th>High</th>\n",
       "      <th>Low</th>\n",
       "      <th>Close</th>\n",
       "      <th>Volume</th>\n",
       "      <th>Dividends</th>\n",
       "      <th>Stock Splits</th>\n",
       "    </tr>\n",
       "    <tr>\n",
       "      <th>Date</th>\n",
       "      <th></th>\n",
       "      <th></th>\n",
       "      <th></th>\n",
       "      <th></th>\n",
       "      <th></th>\n",
       "      <th></th>\n",
       "      <th></th>\n",
       "    </tr>\n",
       "  </thead>\n",
       "  <tbody>\n",
       "    <tr>\n",
       "      <th>2018-09-19 00:00:00-04:00</th>\n",
       "      <td>52.316207</td>\n",
       "      <td>52.584372</td>\n",
       "      <td>51.550021</td>\n",
       "      <td>52.285080</td>\n",
       "      <td>108495200</td>\n",
       "      <td>0.0</td>\n",
       "      <td>0.0</td>\n",
       "    </tr>\n",
       "    <tr>\n",
       "      <th>2018-09-20 00:00:00-04:00</th>\n",
       "      <td>52.732820</td>\n",
       "      <td>53.221262</td>\n",
       "      <td>52.471834</td>\n",
       "      <td>52.682537</td>\n",
       "      <td>106435200</td>\n",
       "      <td>0.0</td>\n",
       "      <td>0.0</td>\n",
       "    </tr>\n",
       "    <tr>\n",
       "      <th>2018-09-21 00:00:00-04:00</th>\n",
       "      <td>52.862113</td>\n",
       "      <td>53.000985</td>\n",
       "      <td>52.026489</td>\n",
       "      <td>52.115082</td>\n",
       "      <td>384986800</td>\n",
       "      <td>0.0</td>\n",
       "      <td>0.0</td>\n",
       "    </tr>\n",
       "    <tr>\n",
       "      <th>2018-09-24 00:00:00-04:00</th>\n",
       "      <td>51.913955</td>\n",
       "      <td>52.977036</td>\n",
       "      <td>51.868462</td>\n",
       "      <td>52.864502</td>\n",
       "      <td>110773600</td>\n",
       "      <td>0.0</td>\n",
       "      <td>0.0</td>\n",
       "    </tr>\n",
       "    <tr>\n",
       "      <th>2018-09-25 00:00:00-04:00</th>\n",
       "      <td>52.615500</td>\n",
       "      <td>53.350563</td>\n",
       "      <td>52.603528</td>\n",
       "      <td>53.199718</td>\n",
       "      <td>98217600</td>\n",
       "      <td>0.0</td>\n",
       "      <td>0.0</td>\n",
       "    </tr>\n",
       "    <tr>\n",
       "      <th>...</th>\n",
       "      <td>...</td>\n",
       "      <td>...</td>\n",
       "      <td>...</td>\n",
       "      <td>...</td>\n",
       "      <td>...</td>\n",
       "      <td>...</td>\n",
       "      <td>...</td>\n",
       "    </tr>\n",
       "    <tr>\n",
       "      <th>2023-09-12 00:00:00-04:00</th>\n",
       "      <td>179.490005</td>\n",
       "      <td>180.130005</td>\n",
       "      <td>174.820007</td>\n",
       "      <td>176.300003</td>\n",
       "      <td>90370200</td>\n",
       "      <td>0.0</td>\n",
       "      <td>0.0</td>\n",
       "    </tr>\n",
       "    <tr>\n",
       "      <th>2023-09-13 00:00:00-04:00</th>\n",
       "      <td>176.509995</td>\n",
       "      <td>177.300003</td>\n",
       "      <td>173.979996</td>\n",
       "      <td>174.210007</td>\n",
       "      <td>84267900</td>\n",
       "      <td>0.0</td>\n",
       "      <td>0.0</td>\n",
       "    </tr>\n",
       "    <tr>\n",
       "      <th>2023-09-14 00:00:00-04:00</th>\n",
       "      <td>174.000000</td>\n",
       "      <td>176.100006</td>\n",
       "      <td>173.580002</td>\n",
       "      <td>175.740005</td>\n",
       "      <td>60895800</td>\n",
       "      <td>0.0</td>\n",
       "      <td>0.0</td>\n",
       "    </tr>\n",
       "    <tr>\n",
       "      <th>2023-09-15 00:00:00-04:00</th>\n",
       "      <td>176.479996</td>\n",
       "      <td>176.500000</td>\n",
       "      <td>173.820007</td>\n",
       "      <td>175.009995</td>\n",
       "      <td>109205100</td>\n",
       "      <td>0.0</td>\n",
       "      <td>0.0</td>\n",
       "    </tr>\n",
       "    <tr>\n",
       "      <th>2023-09-18 00:00:00-04:00</th>\n",
       "      <td>176.479996</td>\n",
       "      <td>179.380005</td>\n",
       "      <td>176.169998</td>\n",
       "      <td>177.970001</td>\n",
       "      <td>67117100</td>\n",
       "      <td>0.0</td>\n",
       "      <td>0.0</td>\n",
       "    </tr>\n",
       "  </tbody>\n",
       "</table>\n",
       "<p>1257 rows × 7 columns</p>\n",
       "</div>"
      ],
      "text/plain": [
       "                                 Open        High         Low       Close  \\\n",
       "Date                                                                        \n",
       "2018-09-19 00:00:00-04:00   52.316207   52.584372   51.550021   52.285080   \n",
       "2018-09-20 00:00:00-04:00   52.732820   53.221262   52.471834   52.682537   \n",
       "2018-09-21 00:00:00-04:00   52.862113   53.000985   52.026489   52.115082   \n",
       "2018-09-24 00:00:00-04:00   51.913955   52.977036   51.868462   52.864502   \n",
       "2018-09-25 00:00:00-04:00   52.615500   53.350563   52.603528   53.199718   \n",
       "...                               ...         ...         ...         ...   \n",
       "2023-09-12 00:00:00-04:00  179.490005  180.130005  174.820007  176.300003   \n",
       "2023-09-13 00:00:00-04:00  176.509995  177.300003  173.979996  174.210007   \n",
       "2023-09-14 00:00:00-04:00  174.000000  176.100006  173.580002  175.740005   \n",
       "2023-09-15 00:00:00-04:00  176.479996  176.500000  173.820007  175.009995   \n",
       "2023-09-18 00:00:00-04:00  176.479996  179.380005  176.169998  177.970001   \n",
       "\n",
       "                              Volume  Dividends  Stock Splits  \n",
       "Date                                                           \n",
       "2018-09-19 00:00:00-04:00  108495200        0.0           0.0  \n",
       "2018-09-20 00:00:00-04:00  106435200        0.0           0.0  \n",
       "2018-09-21 00:00:00-04:00  384986800        0.0           0.0  \n",
       "2018-09-24 00:00:00-04:00  110773600        0.0           0.0  \n",
       "2018-09-25 00:00:00-04:00   98217600        0.0           0.0  \n",
       "...                              ...        ...           ...  \n",
       "2023-09-12 00:00:00-04:00   90370200        0.0           0.0  \n",
       "2023-09-13 00:00:00-04:00   84267900        0.0           0.0  \n",
       "2023-09-14 00:00:00-04:00   60895800        0.0           0.0  \n",
       "2023-09-15 00:00:00-04:00  109205100        0.0           0.0  \n",
       "2023-09-18 00:00:00-04:00   67117100        0.0           0.0  \n",
       "\n",
       "[1257 rows x 7 columns]"
      ]
     },
     "execution_count": 183,
     "metadata": {},
     "output_type": "execute_result"
    }
   ],
   "source": [
    "df"
   ]
  },
  {
   "cell_type": "code",
   "execution_count": 184,
   "id": "1f9bb2cf",
   "metadata": {},
   "outputs": [],
   "source": [
    "# Normalize the data using Min-Max scaling\n",
    "scaler = MinMaxScaler()\n",
    "df['Close'] = scaler.fit_transform(df[['Close']])"
   ]
  },
  {
   "cell_type": "code",
   "execution_count": 185,
   "id": "3995c6e4",
   "metadata": {},
   "outputs": [
    {
     "data": {
      "image/png": "[encoded data removed]",
      "text/plain": [
       "<Figure size 432x288 with 1 Axes>"
      ]
     },
     "metadata": {
      "needs_background": "light"
     },
     "output_type": "display_data"
    }
   ],
   "source": [
    "df.shape\n",
    "plt.plot(df['Open']);"
   ]
  },
  {
   "cell_type": "code",
   "execution_count": 186,
   "id": "7a88fff6",
   "metadata": {},
   "outputs": [],
   "source": [
    "# Create sequences for LSTM\n",
    "sequence_length = 10  # Adjust this window size as needed\n",
    "X = []\n",
    "y = []\n",
    "\n",
    "for i in range(len(df) - sequence_length):\n",
    "    X.append(df['Close'].values[i:i+sequence_length])\n",
    "    y.append(df['Close'].values[i+sequence_length])\n",
    "\n",
    "X = np.array(X)\n",
    "y = np.array(y)"
   ]
  },
  {
   "cell_type": "code",
   "execution_count": 187,
   "id": "0ee45371",
   "metadata": {},
   "outputs": [],
   "source": [
    "# Split the data into training and testing sets\n",
    "train_size = int(0.8 * len(X))\n",
    "X_train, X_test = X[:train_size], X[train_size:]\n",
    "y_train, y_test = y[:train_size], y[train_size:]"
   ]
  },
  {
   "cell_type": "code",
   "execution_count": 188,
   "id": "948331e9",
   "metadata": {},
   "outputs": [],
   "source": [
    "# Build the LSTM model\n",
    "model = Sequential()\n",
    "model.add(LSTM(units=50, return_sequences=True, input_shape=(sequence_length, 1)))\n",
    "model.add(LSTM(units=50))\n",
    "model.add(Dense(units=1))\n",
    "\n",
    "model.compile(optimizer='adam', loss='mean_squared_error')\n"
   ]
  },
  {
   "cell_type": "code",
   "execution_count": 189,
   "id": "88bab247",
   "metadata": {},
   "outputs": [
    {
     "name": "stdout",
     "output_type": "stream",
     "text": [
      "Epoch 1/20\n",
      "32/32 [==============================] - 11s 22ms/step - loss: 0.0320\n",
      "Epoch 2/20\n",
      "32/32 [==============================] - 1s 19ms/step - loss: 0.0019\n",
      "Epoch 3/20\n",
      "32/32 [==============================] - 1s 18ms/step - loss: 7.7426e-04\n",
      "Epoch 4/20\n",
      "32/32 [==============================] - 1s 17ms/step - loss: 7.5737e-04\n",
      "Epoch 5/20\n",
      "32/32 [==============================] - 1s 16ms/step - loss: 7.5951e-04\n",
      "Epoch 6/20\n",
      "32/32 [==============================] - 1s 20ms/step - loss: 7.1946e-04\n",
      "Epoch 7/20\n",
      "32/32 [==============================] - 1s 20ms/step - loss: 7.2357e-04\n",
      "Epoch 8/20\n",
      "32/32 [==============================] - 1s 19ms/step - loss: 7.1071e-04\n",
      "Epoch 9/20\n",
      "32/32 [==============================] - 1s 19ms/step - loss: 7.7006e-04\n",
      "Epoch 10/20\n",
      "32/32 [==============================] - 1s 19ms/step - loss: 6.9770e-04\n",
      "Epoch 11/20\n",
      "32/32 [==============================] - 1s 19ms/step - loss: 7.0073e-04\n",
      "Epoch 12/20\n",
      "32/32 [==============================] - 1s 17ms/step - loss: 7.1628e-04\n",
      "Epoch 13/20\n",
      "32/32 [==============================] - 1s 18ms/step - loss: 6.8926e-04\n",
      "Epoch 14/20\n",
      "32/32 [==============================] - 0s 12ms/step - loss: 7.5827e-04\n",
      "Epoch 15/20\n",
      "32/32 [==============================] - 1s 20ms/step - loss: 7.0147e-04\n",
      "Epoch 16/20\n",
      "32/32 [==============================] - 1s 19ms/step - loss: 6.6433e-04\n",
      "Epoch 17/20\n",
      "32/32 [==============================] - 1s 19ms/step - loss: 7.0348e-04\n",
      "Epoch 18/20\n",
      "32/32 [==============================] - 1s 18ms/step - loss: 6.9448e-04\n",
      "Epoch 19/20\n",
      "32/32 [==============================] - 1s 20ms/step - loss: 6.6937e-04\n",
      "Epoch 20/20\n",
      "32/32 [==============================] - 1s 18ms/step - loss: 7.5640e-04\n"
     ]
    },
    {
     "data": {
      "text/plain": [
       "<keras.src.callbacks.History at 0x2592f536e80>"
      ]
     },
     "execution_count": 189,
     "metadata": {},
     "output_type": "execute_result"
    }
   ],
   "source": [
    "# Train the model\n",
    "model.fit(X_train, y_train, epochs=20, batch_size=32, verbose=1)"
   ]
  },
  {
   "cell_type": "code",
   "execution_count": 190,
   "id": "b33eb8c2",
   "metadata": {},
   "outputs": [
    {
     "name": "stdout",
     "output_type": "stream",
     "text": [
      "Training Loss: 0.000938342185690999\n",
      "Testing Loss: 0.001297623966820538\n"
     ]
    }
   ],
   "source": [
    "# Evaluate the model\n",
    "train_loss = model.evaluate(X_train, y_train, verbose=0)\n",
    "test_loss = model.evaluate(X_test, y_test, verbose=0)\n",
    "\n",
    "print(f\"Training Loss: {train_loss}\")\n",
    "print(f\"Testing Loss: {test_loss}\")"
   ]
  },
  {
   "cell_type": "code",
   "execution_count": 191,
   "id": "b0a1af9c",
   "metadata": {},
   "outputs": [
    {
     "name": "stdout",
     "output_type": "stream",
     "text": [
      "8/8 [==============================] - 2s 9ms/step\n"
     ]
    }
   ],
   "source": [
    "# Make predictions\n",
    "predictions = model.predict(X_test)\n",
    "\n",
    "# Inverse transform the predictions to get actual prices\n",
    "predictions = scaler.inverse_transform(predictions)\n",
    "y_test = y_test.reshape(-1, 1)\n",
    "y_test = scaler.inverse_transform(y_test)\n"
   ]
  },
  {
   "cell_type": "code",
   "execution_count": 192,
   "id": "82046fce",
   "metadata": {},
   "outputs": [
    {
     "data": {
      "image/png": "[encoded data removed]",
      "text/plain": [
       "<Figure size 864x432 with 1 Axes>"
      ]
     },
     "metadata": {
      "needs_background": "light"
     },
     "output_type": "display_data"
    }
   ],
   "source": [
    "# Plot the actual vs. predicted prices\n",
    "plt.figure(figsize=(12, 6))\n",
    "plt.plot(predictions, label='Predicted Prices')\n",
    "plt.plot(y_test, label='Actual Prices')\n",
    "plt.legend()\n",
    "plt.title('Apple Stock Price Prediction')\n",
    "plt.xlabel('Time')\n",
    "plt.ylabel('Stock Price')\n",
    "plt.show()\n"
   ]
  },
  {
   "cell_type": "code",
   "execution_count": null,
   "id": "ca8b2249",
   "metadata": {},
   "outputs": [],
   "source": []
  },
  {
   "cell_type": "code",
   "execution_count": null,
   "id": "9cc7e4ff",
   "metadata": {},
   "outputs": [],
   "source": []
  }
 ],
 "metadata": {
  "kernelspec": {
   "display_name": "Python 3 (ipykernel)",
   "language": "python",
   "name": "python3"
  },
  "language_info": {
   "codemirror_mode": {
    "name": "ipython",
    "version": 3
   },
   "file_extension": ".py",
   "mimetype": "text/x-python",
   "name": "python",
   "nbconvert_exporter": "python",
   "pygments_lexer": "ipython3",
   "version": "3.9.12"
  }
 },
 "nbformat": 4,
 "nbformat_minor": 5
}
